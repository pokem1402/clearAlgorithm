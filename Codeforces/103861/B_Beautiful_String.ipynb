{
 "cells": [
  {
   "cell_type": "markdown",
   "id": "cfcd7206",
   "metadata": {},
   "source": [
    "source : https://codeforces.com/gym/103861/problem/B"
   ]
  },
  {
   "cell_type": "markdown",
   "id": "48d090d6",
   "metadata": {},
   "source": [
    "# Keyword\n",
    "\n",
    "### \\# Fibonacci like sequence, Dynamic Programming, \n",
    "### \\# python memoryview"
   ]
  },
  {
   "cell_type": "markdown",
   "id": "7ba2fd12",
   "metadata": {},
   "source": [
    "# B. Beautiful String\n",
    "> 각 테스트 별 시간 제한 : 3초\n",
    ">\n",
    "> 각 테스트 별 메모리 제한 : 1024mb\n",
    ">\n",
    "> 입출력 : standard I/O\n"
   ]
  },
  {
   "cell_type": "markdown",
   "id": "0b6e35ed",
   "metadata": {},
   "source": [
    "# 1. 문제 요약 정리\n",
    "\n",
    "\n",
    "문자열 $t$가 주어졌을 때 $s = s_1 + s_2 + s_3 + s_4 + s_5 + s_6, where (s_1 = s_2 = s_5, s_3 = s_6)$을 만족하는 부분 문자열의 수의 총 합을 구하시오."
   ]
  },
  {
   "cell_type": "markdown",
   "id": "ec4aac2d",
   "metadata": {},
   "source": [
    "## 입력\n",
    "\n",
    "<p>첫 줄에는 전체 테스트 케이스 수를 지정하는 하나의 정수 $T \\; (1 \\leq T \\leq 50)$ </p>\n",
    "<p>각 테스트마다 숫자 0-9 로만 구성된 한 줄의 문자열 $t$이 주어짐.</p>\n",
    "<p>각 테스트마다 $t$의 길이는 5000을 넘기지 않고, 전 테스트의 $t$의 합계는 30000을 넘지 않음."
   ]
  },
  {
   "cell_type": "markdown",
   "id": "4dab17dd",
   "metadata": {},
   "source": [
    "## 출력\n",
    "\n",
    "각 테스트 케이스마다 문자열 $t$로부터 조건을 만족하는 모든 부분 문자열의 수를 나타내는 하나의 정수"
   ]
  },
  {
   "cell_type": "markdown",
   "id": "30b73daa",
   "metadata": {},
   "source": [
    "## Example\n",
    "---\n",
    "### Input\n",
    "```\n",
    "2\n",
    "114514\n",
    "0000000\n",
    "```\n",
    "---\n",
    "### Output\n",
    "```\n",
    "1\n",
    "3\n",
    "```"
   ]
  },
  {
   "cell_type": "markdown",
   "id": "967fff98",
   "metadata": {},
   "source": [
    "# 2. 문제 해결\n",
    "## 해결 사고 과정\n",
    "### (1) 부분 문자열\n",
    "\n",
    "- 조건을 만족하는 부분 문자열은 $(A)(A)(B)(C)(A)(B)$ 의 형태를 띄며 이 때 $|A|, |B|, |C|$의 크기는 서로 다를 수 있다.\n",
    "\n",
    "- $x = |A|, y = |B|, z = |C|$ 라고 가정하면 부분 문자열의 크기는 $3x+2y+z$이다.\n",
    "\n",
    "- $(1 \\leq x,y,z)$ 라서 가장 작으면서 조건을 만족하는 부분 문자열의 크기는 6.\n",
    "\n",
    "- 가능한 조합의 경우의 수 : $(A)(A)(B)(C)(A)(B) [A \\neq B \\neq C, 3x+2y+z] , (A)(A)(B)(B)(A)(B)[B = C \\neq A, 3x+3y], (A)(A)(B)(A)(A)(B)[A = C\\neq B, 4x+2y], (A)(A)(A)(C)(A)(A)[A = B \\neq C, 5x+z], (A)(A)(A)(A)(A)(A) [A = B = C, 6x]$"
   ]
  },
  {
   "cell_type": "code",
   "execution_count": 4,
   "id": "dd3508fb",
   "metadata": {},
   "outputs": [
    {
     "name": "stdout",
     "output_type": "stream",
     "text": [
      "1665 2498 4995\n"
     ]
    }
   ],
   "source": [
    "A_max = int((5000-3)/3) # A 문자열의 최대 길이\n",
    "B_max = int((5000-4)/2) # B 문자열의 최대 길이\n",
    "C_max = int((5000-5)/1) # C 문자열의 최대 길이\n",
    "print(A_max, B_max, C_max)"
   ]
  },
  {
   "cell_type": "markdown",
   "id": "5093c030",
   "metadata": {},
   "source": [
    "### (2) 특수 케이스 : 같은 패턴으로만 이루어진 문자열\n",
    "\n",
    "- 예를 들어 제시된 input 중에 '0000000' 같은 문자열\n",
    "- 입력에서 가정된 조건에서 0으로만 이루어진 크기가 5000인 문자열에서 조건을 만족하는 부분 문자열은 총 몇개인가?\n",
    "\n",
    "#### 용어 정리\n",
    "\n",
    "> $n^E$ : 같은 문자 또는 문자열이 n번 반복하여 구성된 문자열들의 집합  (ex : 0000000 $\\subset$ $7^E$)\n",
    ">\n",
    "> $n^e$ : 같은 문자 혹은 문자열이 n번 반복하여 구성된 문자열의 임의의 원소\n",
    ">\n",
    "> $f(S)$ : 문자열 S에서 문제의 조건을 만족하는 부분 문자열의 수의 합\n",
    ">\n",
    "> $\\epsilon(S)$ : 문자열 S의 **모든 문자열**을 사용하여 문제의 조건을 만족하는 부분 문자열의 수의 합"
   ]
  },
  {
   "cell_type": "markdown",
   "id": "f4faec36",
   "metadata": {},
   "source": [
    "#### 1)  $f(n^e)$, the special case of $f(S)$\n",
    "\n",
    "- 문자열의 모든 부분 문자열의 크기가 6 이상이면 개별 문자 또는 부분 문자열에 상관 없이 문자열을 조건대로 분할할 수 있다면 문제의 조건에 부합하는 부분 문자열을 생성할 수 있다.\n",
    "- $\\epsilon(S)$ 는 입력이 $n^e$라는 조건일 때 다음의 식을 만족한다.\n",
    "> $\\epsilon(n^e) = |A(n)|$, where $A(n)=\\{x,y,z|3x+2y+z=n\\}, \\; (x,y,z \\geq 1) \\quad \\quad \\cdots$ (ㄱ)\n",
    "- $\\epsilon(6^e) = |A(6)| = |\\{(1,1,1)\\}| = 1 = f(6^e)$은 자명하다.\n",
    "- $f(7^e) = 2 \\epsilon(6^e)+\\epsilon(7^e)$ $\\quad \\because 7^e$의 경우에는 6개의 문자열을 0번 index로부터[0:5], 그리고 1번 index로부터[1:6] 추출이 가능하므로\n",
    "- $f(8^e) = 3 \\epsilon(6^e)+2\\epsilon(7^e)+3\\epsilon(8^e)$\n",
    "- 따라서 일반적으로 다음과 같이 쓸 수 있다.\n",
    "> $f((6+i)^e) = \\sum_{j=0}^{i}(i+1-j)\\epsilon((6+j)^e)$\n",
    "- 또는 다음과 같이 작성할 수 있다\n",
    "> $f((6+i)^e) = f((6+(i-1))^e + \\sum_{j=0}^{i}\\epsilon(6+j)^e)$\n",
    "\n",
    "\n",
    "##### pseudo-code for $f(n^e)$\n",
    "```python\n",
    "let S be string that consists of identical n patterns\n",
    "\n",
    "let beauties be n+1 size empty list\n",
    "\n",
    "let eps_sum be n+1 size empty list\n",
    "\n",
    "\n",
    "def get_epsilon(integer n):\n",
    "    ...\n",
    "    return epsilon of n patterns\n",
    "\n",
    "\n",
    "def set_epsilon_sum(integer n):\n",
    "    \n",
    "    let eps_n_sum be integer as 0\n",
    "    \n",
    "    if n > 6 then  \n",
    "        if eps_sum[n-1] is not assigned then\n",
    "            get_epsilon_sum_array(n-1)\n",
    "            \n",
    "        eps_n_sum += eps_sum[n-1]\n",
    "        \n",
    "    eps_n_sum += get_epsilon(n)\n",
    "    append eps_n_sum to the nth place of eps_sum\n",
    "            \n",
    "\n",
    "def set_beauty(integer n):\n",
    "    \n",
    "    let beauty be integer as 0\n",
    "    \n",
    "    # get beauty of n-1 if valid\n",
    "    if n > 6 then \n",
    "        if beauties[n-1] is not assigned then\n",
    "            set_beauty(n-1)\n",
    "            \n",
    "        beauty = beauties[n-1]\n",
    "    \n",
    "    # get sum of epsilon [:n-1]\n",
    "    if eps_sum[n] is not assigned then\n",
    "        set_epsilon_sum(n)\n",
    "        \n",
    "    beauty += eps_sum[n]\n",
    "    append beauty to the end of beauties\n",
    "    \n",
    "    \n",
    "def answer(string S):\n",
    "\n",
    "    let beauty be integer\n",
    "    if beauties[len(S)] is not assgined then\n",
    "        set_beauty(len(S))\n",
    "   \n",
    "    beauty = beauties[len(S)]               \n",
    "    return beauty    \n",
    "```"
   ]
  },
  {
   "cell_type": "markdown",
   "id": "91200e78",
   "metadata": {},
   "source": [
    "#### 2) $\\epsilon(n^e)$, the special case of $\\epsilon(S)$\n",
    "\n",
    "-  위의 식 (ㄱ) 중에서 집합 $A$에서 요구하는 것은 $(x,y,z)$가 어떻게 조합되는 지가 아니라 Cardinality를 구하는 것이므로 다음과 같이 변경할 수 있다.\n",
    "\n",
    ">  $A=\\{x',y',z'|3x'+2y'+z'=n_*\\}, \\; (x',y',z' \\geq 0, x' = x-1, y'=y-1, z' = z-1, n_* = n-6)$ \n",
    "\n",
    "- 또한 이후의 벡터 표기는 $(x', y', z')$으로 표기한다.\n",
    "\n",
    "\n",
    "- $\\epsilon(6^e)= \\epsilon(0_*^e) = |A(0_*)|=|{(0,0,0)}| = 1$  으로 자명하다.\n",
    "- $A(1_*)$의 모든 가능한 조합은 $A(0_*)$의 모든 원소에 $(0,0,1)$를 더한 값인 것은 자명하다. \n",
    "- $A(2_*)$의 모든 가능한 조합은 $A(1_*)$의 모든 원소에 $(0,0,1)$을 더하고 $A(0_*)$의 모든 원소에 $(0,1,0)$을 더한 것은 자명하다.\n",
    "- $A(3_*)$의 모든 가능한 조합은 $A(2_*)$의 모든 원소에 $(0,0,1)$을 더하고 $A(1_*)$의 모든 원소에 $(0,1,0)$을 더하고, $A(0_*)$을 더한 것은 자명하다.\n",
    "\n",
    "- 즉, 아래의 식을 만족한다.\n",
    "$\\begin{equation}\\end{equation}$\n",
    ">$\\begin{equation}\n",
    "    |A(i)| = |A((i-1))| + |A((i-2))| + |A((i-3))| \\quad |A(i)|=\n",
    "    \\begin{cases}{}\n",
    "      \\text{0,$\\quad$ if $i<6$}\\\\\n",
    "      \\text{1,$\\quad$ if $i=6$}\n",
    "      \\end{cases}\n",
    " \\end{equation}$\n"
   ]
  },
  {
   "cell_type": "markdown",
   "id": "a2025d56",
   "metadata": {},
   "source": [
    "#### pseudo-code for $\\epsilon(n^c)$\n",
    "\n",
    "\n",
    "```\n",
    "let eps be n size empty list\n",
    "initialize eps 0 from 0th to 5th and 1 at 6th.\n",
    "```\n",
    "```python\n",
    "def get_epsilon(integer n):\n",
    "    \n",
    "    if eps[n] is not assigned then\n",
    "        set_epsilon(n);\n",
    " \n",
    "    return eps[n]\n",
    "\n",
    "def set_epsilon(integer n):\n",
    "    \n",
    "    if eps[n] is assigned then\n",
    "        return\n",
    "    \n",
    "    if eps[n-1] is not assigned then\n",
    "        set_epsilon(n-1)\n",
    "    \n",
    "    append eps[n-1] + eps[n-2] + eps[n-3] to the end of eps\n",
    "```"
   ]
  },
  {
   "cell_type": "markdown",
   "id": "3ecb7ce6",
   "metadata": {},
   "source": [
    "### $f(n^e)$에 대한 code"
   ]
  },
  {
   "cell_type": "code",
   "execution_count": 31,
   "id": "39a803b4",
   "metadata": {},
   "outputs": [
    {
     "data": {
      "text/plain": [
       "500"
      ]
     },
     "execution_count": 31,
     "metadata": {},
     "output_type": "execute_result"
    }
   ],
   "source": [
    "string_size = 500\n",
    "x = '0'*string_size\n",
    "len(x)"
   ]
  },
  {
   "cell_type": "code",
   "execution_count": 18,
   "id": "0928c7ea",
   "metadata": {},
   "outputs": [],
   "source": [
    "class Beauty_only_equal_character:    \n",
    "    def __init__(self):\n",
    "        self.init()\n",
    "    def init(self):\n",
    "        self.beauties = [0 for i in range(6)]+ [1]\n",
    "        self.eps = self.beauties.copy()\n",
    "        self.eps_sum = self.beauties.copy()    \n",
    "    @property\n",
    "    def epsl(self):\n",
    "        return len(self.eps) - 1\n",
    "    @property\n",
    "    def beautiesl(self):\n",
    "        return len(self.beauties) -1\n",
    "    @property\n",
    "    def eps_suml(self):\n",
    "        return len(self.eps_sum) -1"
   ]
  },
  {
   "cell_type": "code",
   "execution_count": 2,
   "id": "f4ea7f23",
   "metadata": {},
   "outputs": [],
   "source": [
    "def get_epsilon(b,n):\n",
    "    if b.epsl < n:\n",
    "        set_epsilon(b, n)\n",
    "    return b.eps[n]\n",
    "\n",
    "def set_epsilon(b, n): \n",
    "    if b.epsl >= n:\n",
    "        return\n",
    "    if b.epsl < n - 1 :\n",
    "        set_epsilon(n-1)\n",
    "    b.eps.append(b.eps[n-1] + b.eps[n-2] + b.eps[n-3])"
   ]
  },
  {
   "cell_type": "code",
   "execution_count": 15,
   "id": "9c7236be",
   "metadata": {},
   "outputs": [],
   "source": [
    "def set_epsilon_sum(b,n):\n",
    "\n",
    "    \n",
    "    if b.eps_suml < n-1:\n",
    "        set_epsilon_sum(b, n-1)\n",
    "    eps_n_sum = b.eps_sum[n-1] + get_epsilon(b, n)\n",
    "   \n",
    "    b.eps_sum.append(eps_n_sum)\n",
    "\n",
    "def set_beauty(b, n):\n",
    "\n",
    "    beauty = 0\n",
    "    \n",
    "    # get beauty of n-1 if valid\n",
    "    if b.beautiesl < n-1:\n",
    "        set_beauty(b, n-1)    \n",
    "\n",
    "    beauty += b.beauties[n-1]\n",
    "\n",
    "    # get sum of epsilon [1:n]\n",
    "    if b.eps_suml < n:\n",
    "        set_epsilon_sum(b,n)\n",
    "\n",
    "    beauty += b.eps_sum[n]\n",
    "    \n",
    "    b.beauties.append(beauty)\n",
    "\n",
    "def answer(b, S):\n",
    "\n",
    "    n = len(S)\n",
    "    if b.beautiesl < n:\n",
    "        set_beauty(b, n)\n",
    "\n",
    "    beauty = b.beauties[n]               \n",
    "    return beauty   "
   ]
  },
  {
   "cell_type": "code",
   "execution_count": 18,
   "id": "77d6b95b",
   "metadata": {},
   "outputs": [
    {
     "name": "stdout",
     "output_type": "stream",
     "text": [
      "6 1 1 1\n",
      "7 3 2 1\n",
      "8 7 4 2\n",
      "9 15 8 4\n",
      "10 30 15 7\n",
      "11 58 28 13\n",
      "12 110 52 24\n",
      "13 206 96 44\n",
      "14 383 177 81\n"
     ]
    }
   ],
   "source": [
    "b = Beauty_only_equal_character();\n",
    "b.epsl\n",
    "\n",
    "for i in range(6, 15, 1):\n",
    "    answer(b, '0'*i)\n",
    "#     print(b.beautiesl, b.eps_suml, b.epsl)\n",
    "    print(i, b.beauties[i],b.eps_sum[i], b.eps[i])"
   ]
  },
  {
   "cell_type": "markdown",
   "id": "0b2256af",
   "metadata": {},
   "source": [
    "## (3) $f(S)$ \n",
    "\n",
    "- 문자열 S의 길이가 $n$일 때 $f(n^e) = max(f(S)) $이다.\n",
    "- 즉 $|A(n)|$ 은 가능한 모든 조합의 수를 나타낸다.\n",
    "- 첫 번째 방법 : 그렇다면? 가능한 모든 경우 다 해보기"
   ]
  },
  {
   "cell_type": "code",
   "execution_count": 10,
   "id": "f098f5c6",
   "metadata": {},
   "outputs": [],
   "source": [
    "import random\n",
    "\n",
    "class example:\n",
    "    \n",
    "    def __init__(self, size = 100, permutation = \"0123456789\"):\n",
    "        self.size = size\n",
    "        self.permutation = permutation\n",
    "        self.pick()\n",
    "    \n",
    "    def pick(self):\n",
    "        self.x =''.join(random.choice(self.permutation) for i in range(self.size))\n",
    "    @property\n",
    "    def x(self):\n",
    "        return self._x\n",
    "    \n",
    "    @property\n",
    "    def xb(self):\n",
    "        return bytes(self._x, \"ascii\")\n",
    "    \n",
    "    @x.setter\n",
    "    def x(self, value):\n",
    "#         if hasattr(self, '_x'):\n",
    "#             self._x.release()\n",
    "        self._x = value\n",
    "        \n",
    "    @property\n",
    "    def size(self):\n",
    "        return self._size\n",
    "        \n",
    "    @size.setter\n",
    "    def size(self, value):\n",
    "        self._size = value\n",
    "        \n",
    "x = example()"
   ]
  },
  {
   "cell_type": "code",
   "execution_count": null,
   "id": "349810d4",
   "metadata": {},
   "outputs": [],
   "source": [
    "class Substring:\n",
    "    def __init__(self, loc):\n",
    "        self.length = 1\n",
    "        self.loc = loc\n",
    "        self.length = 1\n",
    "        self.order = [i for i in range(len(loc))]\n",
    "        \n",
    "class Beauty_basic: # each substring consists of one character\n",
    "    \n",
    "    def __init__(self):\n",
    "        \n",
    "        self.start = 0;\n",
    "        self.end = 0;\n",
    "        self.A = Substring([1,2,5])\n",
    "        self.B = Substring([3,6])\n",
    "        self.C = Substring([4])\n",
    "    \n",
    "    def get_next(self, length):\n",
    "        \n",
    "        self.end = self.start+length\n",
    "        start = self.start\n",
    "        self.start = self.end\n",
    "        return slice(start, self.end,1)\n",
    "        \n",
    "    def check_beauty(self, S):\n",
    "        \n",
    "        result = False\n",
    "        start = self.start # store self.start\n",
    "        \n",
    "        lenA = self.A.length\n",
    "        lenB = self.B.length\n",
    "        lenC = self.C.length\n",
    "        \n",
    "        slices = [self.get_next(l) for l in [lenA, lenA, lenB, lenC, lenA, lenB]]\n",
    "        \n",
    "        if( (S[slices[0]] == S[slices[1]]) & (S[slices[1]]== S[slices[4]])):\n",
    "            if( S[slices[2]] == S[slices[5]]):\n",
    "                result = True\n",
    "        \n",
    "        self.start = start\n",
    "        return result\n",
    "    \n",
    "    def move(self, n):\n",
    "        self.start = n\n",
    "    @property\n",
    "    def size(self):\n",
    "        return self.A.length + self.B.length + self.C.length"
   ]
  },
  {
   "cell_type": "markdown",
   "id": "60c64bf9",
   "metadata": {},
   "source": [
    "### [Version 1.0] with BF\n",
    "- (A)(A)(B)(C)(A)(B)\n",
    "- 가능한 모든 경우를 해본다.\n",
    "- 부분 문자열에 영향을 주는 factor는 다음과 4가지. (start, A size, B size, C size)\n",
    "- 따라서 가능한 행동은 다음과 같다.\n",
    " - start : shift(+1), reset(0)\n",
    " - 각 size : expand(+1), reset(0)\n",
    "- 따라서 총 가능한 행동은 2 + 3 * 2 = 8가지가 존재하지만 reset은 0으로 되돌리는 행동이므로 이미 수행했던 행동이라 제외가능하다.\n",
    "- 제한 사항 : start + size - 1 $\\leq$ len(S)\n",
    "- 각각의 케이스를 살펴보자.\n",
    " - Shift : 일반적으로 모든 값에 변화를 준다. 앞에서부터 비교 해야됨\n",
    " - Expand A : 모든 값에 변화를 준다. 앞에서부터 비교해야됨\n",
    " - Expand B : 앞의 두 A에는 영향을 주지 않는다. A[0]과 A[1]은 여전히 같다.\n",
    " - Expand C : 앞의 두 A에는 영향을 주지 않는다. A[0]과 A[1]은 여전히 같다.\n",
    " - A[2] 입장에서는 B와 C가 각각 얼마나 증가하든 **두 문자열 그룹의 사이즈 증가의 총합에만 영향을 받음.**\n",
    " - 따라서 우선 A[1]과 A[2]가 일치하는 지점까지 두 문자열 사이의 거리를 계속 증가시킨 다음에 B의 크기를 늘리면서 B 사이를 비교"
   ]
  },
  {
   "cell_type": "code",
   "execution_count": 129,
   "id": "a5ee3a21",
   "metadata": {},
   "outputs": [
    {
     "name": "stdout",
     "output_type": "stream",
     "text": [
      "23\n",
      "45\n"
     ]
    }
   ],
   "source": [
    "x=1\n",
    "size=2\n",
    "print(\"12345\"[x:x+size])\n",
    "print('12345'[x+size: x+size+size])"
   ]
  },
  {
   "cell_type": "markdown",
   "id": "5e889706",
   "metadata": {},
   "source": [
    "---\n",
    "```python\n",
    "Input string S\n",
    "Output integer answer\n",
    "```\n",
    "---\n",
    "\n",
    "```c\n",
    "    A := string list consists of 3 strings\n",
    "    B := string list consists of 2 strings\n",
    "    C := string list consists of 1 strings\n",
    "\n",
    "    la, lb, lc is size of A, B and C substrings\n",
    "\n",
    "    start <- 0\n",
    "    n <= length of S\n",
    "    answer <- 0\n",
    "\n",
    "    la, lb, lc initialie to 1\n",
    "\n",
    "    for (; until start <= n - 6; start++) \n",
    "        for (la = 1 ; 3*la <= n - 3 - start ; la++)\n",
    "            A[0] <- assign la size substring from start index\n",
    "            A[1] <- assign la size substring from the end of A[0]\n",
    "\n",
    "            if A[0] == A[1]:\n",
    "\n",
    "                for (L = lb+lc ;  L <= n - start - 3 * la - 1: L++) \n",
    "                    A[2] <- assign la size substring from the end of A[1] + L\n",
    "                    if A[2] is not equal to A[1]:\n",
    "                        continue\n",
    "                    lc = L - 1 # max length of C and decrease it\n",
    "                    lb = 1\n",
    "                    while until lb <= n - start - 3 * la - L ) and lc >= 1:\n",
    "                        B[0] <- assign lb size substring from the end of A[1]\n",
    "                        B[1] <- assign lb size substring from the end of A[2]\n",
    "\n",
    "                        if B[0] is equal to B[1]:\n",
    "                            answer += 1\n",
    "                        lc -= 1; lb += 1\n",
    "```\n",
    "---"
   ]
  },
  {
   "cell_type": "code",
   "execution_count": 149,
   "id": "9bdcfac2",
   "metadata": {},
   "outputs": [
    {
     "data": {
      "text/plain": [
       "[1, 2, 3, 4, 5]"
      ]
     },
     "execution_count": 149,
     "metadata": {},
     "output_type": "execute_result"
    }
   ],
   "source": [
    "#10 - 3 - 1 -> 1,2,3,4,5,6\n",
    "# [ i for i in range(1, 6)]\n",
    "s = \"123456890\"*2\n",
    "[s[i:i+6] for i in range(0, len(s)-3)]\n",
    "[i for i in range(1, 6)]"
   ]
  },
  {
   "cell_type": "code",
   "execution_count": 175,
   "id": "090f9125",
   "metadata": {
    "scrolled": false
   },
   "outputs": [
    {
     "name": "stdout",
     "output_type": "stream",
     "text": [
      "1  0 0 0 0 0 0 \n",
      "6 1\n",
      "2  0 0 0 00 0 0 \n",
      "7 3\n",
      "3  0 0 00 0 0 00 \n",
      "4  0 0 0 000 0 0 \n",
      "8 7\n",
      "5  0 0 00 00 0 00 \n",
      "6  0 0 0 0000 0 0 \n",
      "7  00 00 0 0 00 0 \n",
      "9 14\n",
      "6  0 0 000 0 0 000 \n",
      "8  0 0 00 000 0 00 \n",
      "9  0 0 0 00000 0 0 \n",
      "11  00 00 0 00 00 0 \n",
      "10 25\n",
      "9  0 0 000 00 0 000 \n",
      "11  0 0 00 0000 0 00 \n",
      "12  0 0 0 000000 0 0 \n",
      "15  00 00 00 0 00 00 \n",
      "16  00 00 0 000 00 0 \n",
      "11 41\n",
      "10  0 0 0000 0 0 0000 \n",
      "13  0 0 000 000 0 000 \n",
      "15  0 0 00 00000 0 00 \n",
      "16  0 0 0 0000000 0 0 \n",
      "21  00 00 00 00 00 00 \n",
      "22  00 00 0 0000 00 0 \n",
      "23  000 000 0 0 000 0 \n",
      "12 64\n",
      "14  0 0 0000 00 0 0000 \n",
      "17  0 0 000 0000 0 000 \n",
      "19  0 0 00 000000 0 00 \n",
      "20  0 0 0 00000000 0 0 \n",
      "26  00 00 000 0 00 000 \n",
      "28  00 00 00 000 00 00 \n",
      "29  00 00 0 00000 00 0 \n",
      "31  000 000 0 00 000 0 \n",
      "13 95\n",
      "15  0 0 00000 0 0 00000 \n",
      "19  0 0 0000 000 0 0000 \n",
      "22  0 0 000 00000 0 000 \n",
      "24  0 0 00 0000000 0 00 \n",
      "25  0 0 0 000000000 0 0 \n",
      "34  00 00 000 00 00 000 \n",
      "36  00 00 00 0000 00 00 \n",
      "37  00 00 0 000000 00 0 \n",
      "40  000 000 00 0 000 00 \n",
      "41  000 000 0 000 000 0 \n",
      "14 136\n"
     ]
    }
   ],
   "source": [
    "S = \"string\"\n",
    "\n",
    "def get_answer(S):\n",
    "    \n",
    "#     S = bytes(S, 'ascii') \n",
    "    answer = 0\n",
    "    n = len(S)\n",
    "        \n",
    "    for start in range(n - 6 + 1):\n",
    "        for la in range (1, int((n - 3 - start)/3) + 1):  # 3 * la <= n - 3 - start\n",
    "            \n",
    "            A = S[start:start+la];   \n",
    "#             print(\"A0\", A)\n",
    "            A1_start = start+la\n",
    "\n",
    "#             print(\"A1\", S[A1_start:A1_start+la])\n",
    "            \n",
    "            if A == S[A1_start:A1_start+la]: #A[0] == A[1]\n",
    "                \n",
    "                \n",
    "                for L in range(2, n - start - 3*la - 1 + 1):\n",
    "                    A2_start = A1_start+la+L\n",
    "#                     print(\"A2\", S[A2_start:A2_start+la])\n",
    "                    if A != S[A2_start:A2_start+la]:\n",
    "                        continue\n",
    "                    \n",
    "                    lc = L - 1 # max length of C\n",
    "                    lb = 1\n",
    "                    \n",
    "                    while (lb <= n - start - 3 * la - L ) and lc >= 1:\n",
    "                        B1_start = A1_start + la \n",
    "                        B2_start = A2_start + la\n",
    "#                         print(\"B1\", S[B1_start:B1_start+lb])\n",
    "#                         print(\"B2\", S[B2_start:B2_start+lb])\n",
    "                        if(S[B1_start:B1_start+lb] == S[B2_start:B2_start+lb]):\n",
    "                            answer += 1\n",
    "                            if((n-start-3*la-2*lb-lc) == 0 and start == 0):\n",
    "                                print(answer,'X'*start, A,A, S[B1_start:B1_start+lb],\n",
    "                                      S[B1_start+lb:B1_start+lb+lc], A, S[B1_start:B1_start+lb], 'X'*(n-start-3*la-2*lb-lc))\n",
    "\n",
    "                        lc -= 1;\n",
    "                        lb += 1;\n",
    "    return answer\n",
    "\n",
    "for i in range(6, 15):\n",
    "    print(i, get_answer(\"0\"*i))"
   ]
  },
  {
   "cell_type": "code",
   "execution_count": null,
   "id": "6d3bee9e",
   "metadata": {},
   "outputs": [],
   "source": [
    "\n"
   ]
  },
  {
   "cell_type": "markdown",
   "id": "a6b24387",
   "metadata": {},
   "source": [
    "### Speed compare **bytes** comparing and **memoryview** comparing"
   ]
  },
  {
   "cell_type": "code",
   "execution_count": null,
   "id": "5f6c3303",
   "metadata": {},
   "outputs": [],
   "source": [
    "import timeit"
   ]
  },
  {
   "cell_type": "code",
   "execution_count": 32,
   "id": "dc14637b",
   "metadata": {},
   "outputs": [
    {
     "name": "stdout",
     "output_type": "stream",
     "text": [
      "0.31385339999997086\n",
      "0.5257930000000215\n",
      "0.7827076000000943\n"
     ]
    }
   ],
   "source": [
    "# memoryview sliced then compare by \"==\"\n",
    "print(timeit.timeit(\"y[0:2]==y[4:6]\",\"x=b'ititit';y = memoryview(x);\", number=1000000))\n",
    "print(timeit.timeit(\"y[0:2]==y[4:6];y[1:3]==y[3:5]\",\"x=b'ititit';y = memoryview(x);\", number=1000000))\n",
    "print(timeit.timeit(\"y[0:2]==y[4:6];y[1:3]==y[3:5];y[2:3]==y[4:5]\",\"x=b'ititit';y = memoryview(x);\", number=1000000))"
   ]
  },
  {
   "cell_type": "code",
   "execution_count": 35,
   "id": "2fd98746",
   "metadata": {},
   "outputs": [
    {
     "name": "stdout",
     "output_type": "stream",
     "text": [
      "0.29044009999984155\n",
      "0.6313248999999814\n",
      "0.9499075999999604\n"
     ]
    }
   ],
   "source": [
    "# memoryview sliced then compare by \"__eq__\"\n",
    "print(timeit.timeit(\"y[0:2].__eq__(y[4:6])\",\"x=b'ititit';y = memoryview(x);\", number=1000000))\n",
    "print(timeit.timeit(\"y[0:2].__eq__(y[4:6]);y[1:3].__eq__(y[3:5])\",\"x=b'ititit';y = memoryview(x);\", number=1000000))\n",
    "print(timeit.timeit(\"y[0:2].__eq__(y[4:6]);y[1:3].__eq__(y[3:5]);y[2:3].__eq__(y[4:5])\",\"x=b'ititit';y = memoryview(x);\", number=1000000))"
   ]
  },
  {
   "cell_type": "code",
   "execution_count": 41,
   "id": "abba6b18",
   "metadata": {},
   "outputs": [
    {
     "name": "stdout",
     "output_type": "stream",
     "text": [
      "0.14990740000007463\n",
      "0.3187634999999318\n",
      "0.49182329999985086\n"
     ]
    }
   ],
   "source": [
    "# bytes sliced than compare by \"==\"\n",
    "print(timeit.timeit(\"x[0:2]==x[4:6]\",\"x=b'ititit';y = memoryview(x);\", number=1000000))\n",
    "print(timeit.timeit(\"x[0:2]==x[4:6];x[1:3]==x[3:5];\",\"x=b'ititit';y = memoryview(x);\", number=1000000))\n",
    "print(timeit.timeit(\"x[0:2]==x[4:6];x[1:3]==x[3:5];x[2:3]==x[4:5]\",\"x=b'ititit';y = memoryview(x);\", number=1000000))"
   ]
  },
  {
   "cell_type": "code",
   "execution_count": 42,
   "id": "667349ed",
   "metadata": {},
   "outputs": [
    {
     "name": "stdout",
     "output_type": "stream",
     "text": [
      "0.1686581000001297\n",
      "0.33451289999993605\n",
      "0.44975399999998444\n"
     ]
    }
   ],
   "source": [
    "# bytes sliced than compare by \"==\"\n",
    "print(timeit.timeit(\"x[0:2] and x[4:6]\",\"x=b'ititit';y = memoryview(x);\", number=1000000))\n",
    "print(timeit.timeit(\"x[0:2] and x[4:6];x[1:3] and x[3:5];\",\"x=b'ititit';y = memoryview(x);\", number=1000000))\n",
    "print(timeit.timeit(\"x[0:2] and x[4:6];x[1:3] and x[3:5];x[2:3] and x[4:5]\",\"x=b'ititit';y = memoryview(x);\", number=1000000))"
   ]
  },
  {
   "cell_type": "code",
   "execution_count": 133,
   "id": "26b17f6c",
   "metadata": {},
   "outputs": [
    {
     "name": "stdout",
     "output_type": "stream",
     "text": [
      "0.16270000000076834\n",
      "0.3452519999991637\n",
      "0.4742760000008275\n"
     ]
    }
   ],
   "source": [
    "# bytes sliced than compare by \"==\"\n",
    "print(timeit.timeit(\"x[0:2] and x[4:6]\",\"x=b'ititit';\", number=1000000))\n",
    "print(timeit.timeit(\"x[0:2] and x[4:6];x[1:3] and x[3:5];\",\"x=b'ititit';\", number=1000000))\n",
    "print(timeit.timeit(\"x[0:2] and x[4:6];x[1:3] and x[3:5];x[2:3] and x[4:5]\",\"x=b'ititit';\", number=1000000))"
   ]
  },
  {
   "cell_type": "code",
   "execution_count": 134,
   "id": "35108e46",
   "metadata": {},
   "outputs": [
    {
     "name": "stdout",
     "output_type": "stream",
     "text": [
      "0.16612549999990733\n",
      "0.3272746999991796\n",
      "0.4295437000000675\n"
     ]
    }
   ],
   "source": [
    "# string sliced than compare by \"==\"\n",
    "print(timeit.timeit(\"x[0:2] and x[4:6]\",\"x='ititit';\", number=1000000))\n",
    "print(timeit.timeit(\"x[0:2] and x[4:6];x[1:3] and x[3:5];\",\"x='ititit';\", number=1000000))\n",
    "print(timeit.timeit(\"x[0:2] and x[4:6];x[1:3] and x[3:5];x[2:3] and x[4:5]\",\"x='ititit';\", number=1000000))"
   ]
  },
  {
   "cell_type": "code",
   "execution_count": 145,
   "id": "ea9bf5d3",
   "metadata": {},
   "outputs": [
    {
     "name": "stdout",
     "output_type": "stream",
     "text": [
      "16\n"
     ]
    }
   ],
   "source": [
    "from sys import getsizeof\n",
    "print(getsizeof(('ititit'*10)[2:5])-getsizeof((b'ititit'*10)[2:5]))\n",
    "\n",
    "\n"
   ]
  },
  {
   "cell_type": "code",
   "execution_count": 5,
   "id": "f76d8f05",
   "metadata": {},
   "outputs": [
    {
     "data": {
      "text/plain": [
       "0.24882550000000947"
      ]
     },
     "execution_count": 5,
     "metadata": {},
     "output_type": "execute_result"
    }
   ],
   "source": [
    "timeit.timeit(\"x=b'timeit'; y=b'timeit'; x[1:5]==y[1:5]\", number=1000000)"
   ]
  },
  {
   "cell_type": "code",
   "execution_count": 49,
   "id": "b9f6a212",
   "metadata": {},
   "outputs": [
    {
     "data": {
      "text/plain": [
       "0.04540470000029018"
      ]
     },
     "execution_count": 49,
     "metadata": {},
     "output_type": "execute_result"
    }
   ],
   "source": [
    "timeit.timeit(\"x=b'time'; y=b'time'; x==y\", number=1000000)"
   ]
  },
  {
   "cell_type": "code",
   "execution_count": 45,
   "id": "b7bb4ddb",
   "metadata": {},
   "outputs": [
    {
     "data": {
      "text/plain": [
       "0.06929159999981493"
      ]
     },
     "execution_count": 45,
     "metadata": {},
     "output_type": "execute_result"
    }
   ],
   "source": [
    "timeit.timeit(\"x='time'; y='time'; x==y\", number=1000000)"
   ]
  },
  {
   "cell_type": "code",
   "execution_count": 29,
   "id": "25295155",
   "metadata": {},
   "outputs": [],
   "source": []
  },
  {
   "cell_type": "markdown",
   "id": "da419192",
   "metadata": {},
   "source": [
    "### \\# python : memoryview\n",
    "\n",
    "reference : https://docs.python.org/3/library/stdtypes.html#memoryview\n",
    "\n",
    "bytes, bytearray, array.array 등 buffer protocol을 지원하는 object 데이터에 copy하지 않으면서 접근하는 것을 보조.\n",
    "\n",
    "특징 : slice를 copy 없이 수행할 수 있고, resize 불가, readonly value를 지정할 수 있음, with 사용 가능.\n"
   ]
  },
  {
   "cell_type": "markdown",
   "id": "e08e3487",
   "metadata": {},
   "source": [
    " 사용 예시"
   ]
  },
  {
   "cell_type": "code",
   "execution_count": 11,
   "id": "16028946",
   "metadata": {},
   "outputs": [
    {
     "data": {
      "text/plain": [
       "b'113513'"
      ]
     },
     "execution_count": 11,
     "metadata": {},
     "output_type": "execute_result"
    }
   ],
   "source": [
    "s = \"113513\"\n",
    "view = memoryview(bytes(s, 'ascii'))\n",
    "s = \"123\""
   ]
  },
  {
   "cell_type": "markdown",
   "id": "3b56fa0a",
   "metadata": {},
   "source": [
    "slice 및 index가 가능"
   ]
  },
  {
   "cell_type": "code",
   "execution_count": 150,
   "id": "65119c4d",
   "metadata": {},
   "outputs": [
    {
     "name": "stdout",
     "output_type": "stream",
     "text": [
      "True <memory at 0x000002CE11975880> <memory at 0x000002CE11975580> b'1' b'1'\n",
      "False <memory at 0x000002CE11975580> <memory at 0x000002CE11975880> b'1' b'5'\n",
      "s <memory at 0x000002CE11975D00> b'113513'\n",
      "<memory at 0x000002CE11975D00> <memory at 0x000002CE11975580> <memory at 0x000002CE11975880> <memory at 0x000002CE11975DC0>\n",
      "<memory at 0x000002CE11975D00> <memory at 0x000002CE11975580> <memory at 0x000002CE11975880> <memory at 0x000002CE11975DC0>\n"
     ]
    }
   ],
   "source": [
    "\n",
    "sl1 = slice(0,1,1)\n",
    "sl2 = slice(1,2,1)\n",
    "sl3 = slice(3,4,1)\n",
    "\n",
    "print(view[sl1] == view[sl2], view[sl1], view[sl2], bytes(view[sl1]), bytes(view[sl2]))\n",
    "print(view[sl1] == view[sl3], view[sl1], view[sl3], bytes(view[sl1]), bytes(view[sl3]))\n",
    "\n",
    "print(\"s\", view, bytes(view))\n",
    "print(view, view[sl1], view[sl2], view[sl3])\n",
    "print(view, view[sl2], view[sl3], view[sl1])"
   ]
  },
  {
   "cell_type": "code",
   "execution_count": 149,
   "id": "23dfb2b4",
   "metadata": {},
   "outputs": [
    {
     "name": "stdout",
     "output_type": "stream",
     "text": [
      "True <memory at 0x000002CE11975580> <memory at 0x000002CE11975880> b'1' b'1'\n",
      "False <memory at 0x000002CE11975880> <memory at 0x000002CE11975580> b'1' b'5'\n",
      "s <memory at 0x000002CE11975D00> b'113513'\n",
      "<memory at 0x000002CE11975D00> <memory at 0x000002CE11975880> <memory at 0x000002CE11975580> <memory at 0x000002CE11975DC0>\n",
      "<memory at 0x000002CE11975D00> <memory at 0x000002CE11975880> <memory at 0x000002CE11975580> <memory at 0x000002CE11975DC0>\n"
     ]
    }
   ],
   "source": [
    "\n",
    "sl1 = slice(0,1,1)\n",
    "sl2 = slice(1,2,1)\n",
    "sl3 = slice(3,4,1)\n",
    "\n",
    "print(view[sl1] == view[sl2], view[sl1], view[sl2], bytes(view[sl1]), bytes(view[sl2]))\n",
    "print(view[sl1] == view[sl3], view[sl1], view[sl3], bytes(view[sl1]), bytes(view[sl3]))\n",
    "\n",
    "print(\"s\", view, bytes(view))\n",
    "print(view, view[sl1], view[sl2], view[sl3])\n",
    "print(view, view[sl2], view[sl3], view[sl1])"
   ]
  },
  {
   "cell_type": "markdown",
   "id": "a36d5f76",
   "metadata": {},
   "source": [
    "## Before Dynamic Programming"
   ]
  },
  {
   "cell_type": "code",
   "execution_count": 66,
   "id": "49574c1c",
   "metadata": {},
   "outputs": [],
   "source": [
    "def get_answer_v1(S):\n",
    "\n",
    "    #     S = bytes(S, 'ascii')\n",
    "    answer = 0\n",
    "    n = len(S)\n",
    "\n",
    "    \n",
    "    \"\"\"\n",
    "    start : 0 -> n-6\n",
    "        \n",
    "        la : 1 -> k\n",
    "        \n",
    "             A1 == A2?\n",
    "\n",
    "                L = 2 -> l\n",
    "                    A2 == A3?\n",
    "\n",
    "                        lb : 2 -> L-1\n",
    "                            B1 == B2?\n",
    "                                answer ++\n",
    "                \n",
    "    \n",
    "    \"\"\"\n",
    "    \n",
    "    \n",
    "    for start in range(n - 6 + 1):\n",
    "        for la in range(1, int((n - 3 - start)/3) + 1):  # 3 * la <= n - 3 - start\n",
    "\n",
    "            A = S[start:start+la]\n",
    "            A1_start = start+la\n",
    "\n",
    "            if A == S[A1_start:A1_start+la]:  # A[0] == A[1]\n",
    "\n",
    "                for L in range(2, n - start - 3*la - 1 + 1):\n",
    "                    A2_start = A1_start+la+L\n",
    "                    if A != S[A2_start:A2_start+la]:\n",
    "                        continue\n",
    "\n",
    "                    lc = L - 1  # max length of C\n",
    "                    lb = 1\n",
    "\n",
    "                    while (lb <= n - start - 3 * la - L) and lc >= 1:\n",
    "                        B1_start = A1_start + la\n",
    "                        B2_start = A2_start + la\n",
    "                        if(S[B1_start:B1_start+lb] == S[B2_start:B2_start+lb]):\n",
    "                            answer += 1\n",
    "                            lc -= 1\n",
    "                            lb += 1\n",
    "                        else:\n",
    "                            break;\n",
    "    return answer\n",
    "\n",
    "\n",
    "# n = int(input())\n",
    "# for i in range(n):\n",
    "#     print(get_answer(input()))\n"
   ]
  },
  {
   "cell_type": "code",
   "execution_count": 5,
   "id": "3b003b1d",
   "metadata": {},
   "outputs": [],
   "source": [
    "def get_answer_v11(S):\n",
    "\n",
    "    #     S = bytes(S, 'ascii')\n",
    "    answer = 0\n",
    "    n = len(S)\n",
    "\n",
    "    \n",
    "    \"\"\"\n",
    "\n",
    "    A1==A2 -> A1+B0[0]==A2+B1[0]\n",
    "                \n",
    "    \n",
    "    \"\"\"\n",
    "    \n",
    "    \n",
    "    for start in range(n - 6 + 1):\n",
    "        for la in range(1, int((n - 3 - start)/3) + 1):  # 3 * la <= n - 3 - start\n",
    "\n",
    "            A1_start = start+la\n",
    "\n",
    "            if S[start:start+la] == S[A1_start:A1_start+la]:  # A[0] == A[1]\n",
    "\n",
    "                for L in range(2, n - start - 3*la - 1 + 1 ):\n",
    "                    A2_start = A1_start+la+L\n",
    "                    A2B_ = S[A1_start:A1_start+la+1]\n",
    "#                     print(A2B_, S[A2_start:A2_start+la+1])\n",
    "                    if  A2B_ != S[A2_start:A2_start+la+1]:                 # A1+B0[0] == A2+B1[0]?   lb= 0, c=1\n",
    "                        continue\n",
    "\n",
    "                    answer +=1\n",
    "                    lc = L-2  # max length of C\n",
    "                    lb = 1\n",
    "                    \n",
    "\n",
    "                    while (lb <= n - start - 3 * la - L) and lc >= 1 and lb >= 1:\n",
    "                        B1_start = A1_start + la+1\n",
    "                        B2_start = A2_start + la+1\n",
    "                        if(S[B1_start:B1_start+lb] == S[B2_start:B2_start+lb]):\n",
    "                            answer += 1\n",
    "                            lc -= 1\n",
    "                            lb += 1\n",
    "                        else:\n",
    "                            break;\n",
    "    return answer\n",
    "\n",
    "\n",
    "# n = int(input())\n",
    "# for i in range(n):\n",
    "#     print(get_answer(input()))\n"
   ]
  },
  {
   "cell_type": "code",
   "execution_count": 65,
   "id": "2b44c437",
   "metadata": {},
   "outputs": [],
   "source": []
  },
  {
   "cell_type": "markdown",
   "id": "162d4969",
   "metadata": {},
   "source": [
    "## After Dynamic programming"
   ]
  },
  {
   "cell_type": "code",
   "execution_count": 128,
   "id": "6a444259",
   "metadata": {},
   "outputs": [
    {
     "name": "stdout",
     "output_type": "stream",
     "text": [
      "0.007688099998631515\n",
      "0.11437400000431808\n"
     ]
    }
   ],
   "source": [
    "import timeit\n",
    "print(timeit.timeit(\"y+'aaa'\",\"x ='123456789'; y=x[4:6] \",number = 100000))\n",
    "print(timeit.timeit(\"x[4:6]+'aaa'\",\"x ='123456789'; y=x[4:6] \",number = 1000000))"
   ]
  },
  {
   "cell_type": "code",
   "execution_count": 21,
   "id": "89ddc4b6",
   "metadata": {
    "scrolled": true
   },
   "outputs": [],
   "source": [
    "\"\"\"\n",
    "\n",
    "    la : 1 -> k\n",
    "        \n",
    "        start 0 -> k\n",
    "        \n",
    "            A3 == A2?\n",
    "                \n",
    "                lb : 1 -> j\n",
    "                    B1 == B2\n",
    "                        end\n",
    "                \n",
    "            A1 == A2 \n",
    "\n",
    "\n",
    "\"\"\"\n",
    "\n",
    "\n",
    "\"\"\"\n",
    "    0. 최소 가능한 A 후보군은 셋 이상의 원소를 가진 집합\n",
    "    1. A1에 연속인 A2 존재해야됨 (후보군에서 다음 순서일 필요는 없음.)\n",
    "    2. A3 후보군이 A2의 끝 위치부터 최소 2칸 이상이어야함.\n",
    "    3. A3 후보군은 B2가 들어갈 여백은 있어야함.\n",
    "    4. tip) [A1, A2] 후보군들 중에서 가장 마지막에 획득한 후보군에 대해\n",
    "            특정 원소가 A3의 조건을 만족하면 해당 후보군 이전의 후보군들 또한 A의 후보군이 된다.\n",
    "\"\"\"\n",
    "\n",
    "\n",
    " \n",
    "def get_answer_v2(S):\n",
    "\n",
    "    n = len(S)\n",
    "\n",
    "    substring = ['']\n",
    "  \n",
    "    for substring_size in range(1, int((n - 6 + 4)/2)):                       # for all possible size la\n",
    "\n",
    "        substring.append([S[i:i+substring_size] for i in range(n - substring_size + 1)])    # substring sliced with size n\n",
    "\n",
    "    answer = 0\n",
    "\n",
    "    for la in range(1, int((n - 6 + 6)/3)):                       # for all possible size la\n",
    "        candidate_A = []\n",
    "\n",
    "        for i, substr in enumerate(substring[la]):                         # iterate among substrings sliced with size n\n",
    "            \n",
    "            # can it be the 3rd element of A?\n",
    "            if(len(candidate_A) > 0):\n",
    "                k = 0\n",
    "                while k < len(candidate_A):                            # promote A2 and A3 if substr is the first valid A3\n",
    "\n",
    "                    a2, b1_idx = candidate_A[k]\n",
    "                    if i >= b1_idx + 2:                              # is A3 far from A2?\n",
    "                        if a2 == substr:                               # A2 == A3 ?\n",
    "                            # check B\n",
    "                            lb = 1\n",
    "                            while (lb <= i - b1_idx - 1) & (lb <= n - i - la):\n",
    "                                if substring[lb][b1_idx] == substring[lb][i+la]:\n",
    "                                    answer += 1\n",
    "                                    lb += 1\n",
    "                                else:\n",
    "                                    break;\n",
    "\n",
    "                    k += 1\n",
    "\n",
    "            # can it be the 1st element of A?\n",
    "            if (i <= n - 3*la - 3):                                # from its postion, can we get a substring for a beauty?\n",
    "                if (substr == substring[la][i+la]):                             # consecutive A os same?\n",
    "                    candidate_A.append([substring[la][i+la], i+la+la])\n",
    "\n",
    "    return answer\n",
    "\n"
   ]
  },
  {
   "cell_type": "code",
   "execution_count": 46,
   "id": "339bba7d",
   "metadata": {},
   "outputs": [],
   "source": [
    "\n",
    "\n",
    "def get_answer_v21(S):\n",
    "\n",
    "    \n",
    "        \n",
    "        \n",
    "        \n",
    "\n",
    "    n = len(S)\n",
    "\n",
    "    substring = ['', '', '', '']\n",
    "  \n",
    "    for substring_size in range(4, int((n - 6 + 4)/2)):                       # for all possible size la\n",
    "\n",
    "        substring.append([S[i:i+substring_size] for i in range(n - substring_size + 1)])    # substring sliced with size n\n",
    "\n",
    "#     print(substring[4])\n",
    "    def get_substring(idx, size):\n",
    "        \n",
    "        if(size > 3):\n",
    "            return substring[size][idx]\n",
    "        else:\n",
    "            return S[idx:idx+size]\n",
    "\n",
    "        \n",
    "    answer = 0\n",
    "\n",
    "    for la in range(1, int((n - 6 + 6)/3)):                       # for all possible size la\n",
    "        candidate_A = []\n",
    "\n",
    "        for i in range(n - la):                         # iterate among substrings sliced with size n\n",
    "            \n",
    "#             print(i, la)\n",
    "            substr = get_substring(i, la)\n",
    "            \n",
    "            # can it be the 3rd element of A?\n",
    "            if(len(candidate_A) > 0):\n",
    "                k = 0\n",
    "                while k < len(candidate_A):                            # promote A2 and A3 if substr is the first valid A3\n",
    "\n",
    "                    a2, b1_idx = candidate_A[k]\n",
    "                    if i >= b1_idx + 2:                              # is A3 far from A2?\n",
    "                        if a2 == substr:                               # A2 == A3 ?\n",
    "                            \n",
    "                            lb = 1\n",
    "                            \n",
    "                            sm_cond = min(i - b1_idx - 1,n - i - la) \n",
    "                            \n",
    "                            while lb <= sm_cond:\n",
    "                                if get_substring(b1_idx, lb) == get_substring(i+la, lb):\n",
    "                                    answer += 1\n",
    "                                    lb += 1\n",
    "                                else:\n",
    "                                    break;\n",
    "\n",
    "                    k += 1\n",
    "\n",
    "            # can it be the 1st element of A?\n",
    "            if (i <= n - 3*la - 3):                                # from its postion, can we get a substring for a beauty?\n",
    "                if substr == get_substring(i+la, la):                             # consecutive A os same?\n",
    "                    candidate_A.append([get_substring(i+la, la), i+la+la])\n",
    "\n",
    "    return answer\n"
   ]
  },
  {
   "cell_type": "code",
   "execution_count": 48,
   "id": "779a8461",
   "metadata": {},
   "outputs": [],
   "source": [
    "def get_answer_v21(S):\n",
    "\n",
    "    n = len(S)\n",
    "\n",
    "    substring = ['', '', '', '']\n",
    "  \n",
    "#     for substring_size in range(4, int((n - 6 + 4)/2)):                       # for all possible size la\n",
    "\n",
    "#         substring.append([S[i:i+substring_size] for i in range(n - substring_size + 1)])    # substring sliced with size n\n",
    "\n",
    "#     print(substring[4])\n",
    "    def get_substring(idx, size):\n",
    "        \n",
    "#         if(size > 3):\n",
    "#             return substring[size][idx]\n",
    "#         else:\n",
    "            return S[idx:idx+size]\n",
    "\n",
    "        \n",
    "    answer = 0\n",
    "\n",
    "    for la in range(1, int((n - 6 + 6)/3)):                       # for all possible size la\n",
    "        candidate_A = []\n",
    "\n",
    "        for i in range(n - la):                         # iterate among substrings sliced with size n\n",
    "            \n",
    "#             print(i, la)\n",
    "            substr = get_substring(i, la)\n",
    "            \n",
    "            # can it be the 3rd element of A?\n",
    "            if(len(candidate_A) > 0):\n",
    "                k = 0\n",
    "                while k < len(candidate_A):                            # promote A2 and A3 if substr is the first valid A3\n",
    "\n",
    "                    a2, b1_idx = candidate_A[k]\n",
    "                    if i >= b1_idx + 2:                              # is A3 far from A2?\n",
    "                        if a2 == substr:                               # A2 == A3 ?\n",
    "                            \n",
    "                            lb = 1\n",
    "                            \n",
    "                            sm_cond = min(i - b1_idx - 1,n - i - la) \n",
    "                            \n",
    "                            while lb <= sm_cond:\n",
    "                                if get_substring(b1_idx, lb) == get_substring(i+la, lb):\n",
    "                                    answer += 1\n",
    "                                    lb += 1\n",
    "                                else:\n",
    "                                    break;\n",
    "\n",
    "                    k += 1\n",
    "\n",
    "            # can it be the 1st element of A?\n",
    "            if (i <= n - 3*la - 3):                                # from its postion, can we get a substring for a beauty?\n",
    "                if substr == get_substring(i+la, la):                             # consecutive A os same?\n",
    "                    candidate_A.append([get_substring(i+la, la), i+la+la])\n",
    "\n",
    "    return answer\n"
   ]
  },
  {
   "cell_type": "code",
   "execution_count": 99,
   "id": "b3c73068",
   "metadata": {
    "scrolled": false
   },
   "outputs": [
    {
     "name": "stdout",
     "output_type": "stream",
     "text": [
      "73230131096258401886778119709156522531051362017776771724459536169263881993051680177161306709856275885603925000674009016544621767727554707554963038320200352567952139112613747745807588125636290728940957\n",
      "20 20\n",
      "time : 0.3536696434020996\n",
      "time : 0.3002943992614746\n"
     ]
    }
   ],
   "source": [
    "import time\n",
    "\n",
    "def tester(func, input_, times):\n",
    "    start = time.time()  # 시작 시간 저장\n",
    "    for i in range(times):\n",
    "        func(s)   \n",
    "    print(\"time :\", time.time() - start)  # 현재시각 - 시작시간 = 실행 시간\n",
    "\n",
    "size = 200\n",
    "x = example(size)\n",
    "x.pick()\n",
    "# s= '010101010101'\n",
    "s = x.x\n",
    "print(x.x)\n",
    "print(get_answer_v1(s),get_answer_v13(s))\n",
    "\n",
    "\n",
    "tester(get_answer_v13, s, int(30000/size))\n",
    "tester(get_answer_v1, s, int(30000/size))\n",
    "\n",
    "# tester(get_answer_v1, x.xb, int(30000/size))\n",
    "\n",
    "# tester(get_answer_v11, s, int(30000/size))\n",
    "# tester(get_answer_v11, x.xb, int(30000/size))\n",
    "\n",
    "# tester(get_answer_v2, s, int(30000/size))\n",
    "# tester(get_answer_v2, x.xb, int(30000/size))\n",
    "\n",
    "# tester(get_answer_v21, s, int(30000/size))\n",
    "# tester(get_answer_v21, x.xb, int(30000/size))\n"
   ]
  },
  {
   "cell_type": "code",
   "execution_count": 51,
   "id": "40f9969e",
   "metadata": {},
   "outputs": [
    {
     "name": "stdout",
     "output_type": "stream",
     "text": [
      "0.031884099999842874\n",
      "0.0027903000000151224\n"
     ]
    }
   ],
   "source": [
    "import timeit\n",
    "\n",
    "print(timeit.timeit(\"int('123456789123456789123456789') == int('123456789123456789123456789')\", number= 100000))\n",
    "print(timeit.timeit(\"'123456789123456789123456789' == '123456789123456789123456789'\", number= 100000))\n"
   ]
  },
  {
   "cell_type": "code",
   "execution_count": 1,
   "id": "b9c8eba4",
   "metadata": {},
   "outputs": [
    {
     "name": "stdout",
     "output_type": "stream",
     "text": [
      "^C\n"
     ]
    }
   ],
   "source": [
    "def get_answer(S):\n",
    "    \n",
    "    n = len(S)\n",
    "    \n",
    "    substring = ['']\n",
    "    \n",
    "    # 필요한 것? : index 별 접근, substring 별 접근\n",
    "    \n",
    "    for bucket_size in range(1, int((n-6)/2) + 1):\n",
    "        nsubs = {}\n",
    "        size = 0\n",
    "        for idx in range(n-i+1):\n",
    "            \n",
    "            nsubs.add(S[idx:idx+bucket_size])\n",
    "            \n",
    "            \n",
    "            \n",
    "        \n",
    "    \n",
    "    "
   ]
  }
 ],
 "metadata": {
  "kernelspec": {
   "display_name": "Python 3 (ipykernel)",
   "language": "python",
   "name": "python3"
  },
  "language_info": {
   "codemirror_mode": {
    "name": "ipython",
    "version": 3
   },
   "file_extension": ".py",
   "mimetype": "text/x-python",
   "name": "python",
   "nbconvert_exporter": "python",
   "pygments_lexer": "ipython3",
   "version": "3.9.12"
  }
 },
 "nbformat": 4,
 "nbformat_minor": 5
}
