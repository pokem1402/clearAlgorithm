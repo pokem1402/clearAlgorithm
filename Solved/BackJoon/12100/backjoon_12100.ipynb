{
 "cells": [
  {
   "attachments": {},
   "cell_type": "markdown",
   "metadata": {},
   "source": [
    "https://www.acmicpc.net/problem/12100"
   ]
  },
  {
   "cell_type": "code",
   "execution_count": 27,
   "metadata": {},
   "outputs": [],
   "source": [
    "# 방향 벡터와 리스트 순서를 합친 튜플의 나열\n",
    "# 순서대로 down, up, left, right\n",
    "# 내부의 값 : (벡터 y값, x값, y 리스트 방향, x 리스트 방향)\n",
    "VY, VX, Y_LIST_OD, X_LIST_OD = 0,1,2,3\n",
    "dir = [(1, 0, -1, 1), # down\n",
    "       (-1, 0, 1, 1), # up\n",
    "       (0, -1, 1, 1), # left\n",
    "       (0, 1, 1, -1)] # right"
   ]
  },
  {
   "cell_type": "code",
   "execution_count": 28,
   "metadata": {},
   "outputs": [],
   "source": [
    "from copy import deepcopy\n",
    "\n",
    "D, U, L, R = 0,1,2,3\n",
    "# 보드 내의 숫자를 이동시키는 함수\n",
    "# 문제의 <그림 14> -> <그림 15>를 보면 알 수 있듯이 보드 내의 이동은 방향 벡터 기준으로 가장 먼쪽의 요소들부터 움직이면 된다.\n",
    "# 해당 방향의 가장자리 부분은 이동시킬 필요가 없다.\n",
    "# 순서는 진행방향의 반대 순서로 진행하되, 수직 성분의 순서는 어떤 순서로부터 이동해도 상관 없다.\n",
    "def toward(_board, direction):\n",
    "    \n",
    "    # 보드판을 copy\n",
    "    board = deepcopy(_board)\n",
    "    \n",
    "    # 보드판의 가로, 세로\n",
    "    n = len(board)\n",
    "\n",
    "    # 합침 여부를 기록하는 보드 판을 하나 만든다\n",
    "    bs = [[False for _ in range(n)] for _ in range(n)]\n",
    "\n",
    "    # 이동 방향에 대한 벡터 값\n",
    "    dy, dx = direction[VY], direction[VX]\n",
    "    \n",
    "    # 보드를 리스트 순서대로 참조해야되는지, 역방향으로 참조해야하는지에 대한 값\n",
    "    list_order_y, list_order_x = direction[Y_LIST_OD], direction[X_LIST_OD]\n",
    "    \n",
    "    # 보드의 이동방향에 따라서 먼저 이동하는 숫자가 달라진다.\n",
    "    # 예를 들어 왼쪽으로 이동하는 경우에는 x가 가장 작은 값들 부터 왼쪽으로 이동하여 x값이 증가되는 순서대로 이동을 시작해야한다.\n",
    "    order = [\"Y\", \"X\"] if dy else [\"X\", \"Y\"]\n",
    "    \n",
    "    # Y축과 X축으로 실행될 순서의 리스트\n",
    "    # Y축의 경우에 위로 이동하는 경우에는 정방향, 아래로 이동하는 경우에는 리스트가 역순으로 참조되어야 아래부터 이동되므로 -1\n",
    "    # X축의 경우에는 좌로 이동하는 경우가 정방향, 우로 이동하는 경우에는 리스트를 역순으로 참조되어야 오른쪽부터 이동되므로 -1\n",
    "    range_ = {\"Y\" : list(range(n))[::list_order_y],\n",
    "              \"X\" : list(range(n))[::list_order_x]}\n",
    "    \n",
    "    # 변화의 유무를 추적하는 플래그\n",
    "    changed = False\n",
    "    \n",
    "    # 이동하는 축의 가장 가장자리에 놓인 숫자는 이동할 필요가 없으므로 반복문을 수행하지 않음\n",
    "    # 숫자라면 이동할 이유가 없고, 빈칸 (0) 인 경우에는 더더욱 이동할 필요가 없음\n",
    "    for fst_order in range_[order[0]][1:]:\n",
    "        for sec_order in range_[order[1]]:\n",
    "            # 현재 위치의 좌표값\n",
    "            y, x = (fst_order, sec_order) if dy else (sec_order, fst_order)\n",
    "            \n",
    "            # 현재 위치의 값이 빈 칸인 경우에는 건너뜀 (이동할 필요가 없음)\n",
    "            if board[y][x] == 0:\n",
    "                continue\n",
    "            \n",
    "            # 현재 위치의 값이 빈 칸이 아닌 경우\n",
    "            # 숫자 값을 획득\n",
    "            value = board[y][x]\n",
    "\n",
    "            while True:\n",
    "                # 이동이 적법한 경우\n",
    "                if (y+dy >= 0) and (y+dy < n) and (x+dx >= 0) and (x+dx < n):\n",
    "                    next_point = board[y+dy][x+dx]\n",
    "                    \n",
    "                    # 다음 칸이 빈칸인 경우\n",
    "                    if next_point == 0:                        \n",
    "                        # 다음 칸과 현재 칸을 스왑\n",
    "                        board[y][x], board[y+dy][x+dx] = board[y+dy][x+dx], board[y][x]\n",
    "                        bs[y][x], bs[y+dy][x+dx] = bs[y+dy][x+dx], bs[y][x]\n",
    "                    # 다음 칸이 빈칸이 아니라 숫자 인 경우\n",
    "                    else:\n",
    "                        # 다음 칸과 현재 칸의 숫자가 같은 경우 : 병합 후 이동 재개\n",
    "                        # 현재 숫자 혹은 다음 칸의 숫자 모두 한번이라도 합치지 않은 경우에만 합병\n",
    "                        if (next_point == value) and (bs[y+dy][x+dx] == False) and (bs[y][x] == False):\n",
    "                            board[y][x], board[y+dy][x+dx] = 0, 2*value\n",
    "                            bs[y][x], bs[y+dy][x+dx] = False, True\n",
    "                            value *= 2\n",
    "                        # 다음 칸과 현재 칸의 숫자가 다른 경우 : 정지\n",
    "                        else:\n",
    "                            break\n",
    "                    \n",
    "                    #좌표 이동\n",
    "                    y, x = y+dy, x+dx\n",
    "                    # 숫자가 이동 혹은 숫자가 병합 : 변화 발생\n",
    "                    changed = True\n",
    "\n",
    "                # 이동이 적법하지 않은 경우\n",
    "                else:\n",
    "                    break\n",
    "    \n",
    "    \n",
    "    \n",
    "    return board, max(map(max, board)), changed\n",
    "    \n",
    "# toward(board, dir[R])"
   ]
  },
  {
   "cell_type": "code",
   "execution_count": 29,
   "metadata": {},
   "outputs": [],
   "source": [
    "# board_, _ = toward(board, dir[R])\n",
    "# print(board_, _)\n",
    "# board__ , _= toward(board_, dir[D])\n",
    "# print(board__, _)\n",
    "# board___ , _= toward(board__, dir[L])\n",
    "# print(board___, _)\n"
   ]
  },
  {
   "cell_type": "code",
   "execution_count": 30,
   "metadata": {},
   "outputs": [],
   "source": [
    "from collections import deque\n",
    "\n",
    "# bfs\n",
    "def bfs(board_init):\n",
    "    \n",
    "    # queue 생성\n",
    "    q = deque()\n",
    "    \n",
    "    # 방문한 상태를 저장하는 리스트\n",
    "    visited = [board_init]\n",
    "\n",
    "    # 초기값을 queue에 넣음\n",
    "    q.append([board_init, 0])\n",
    "    \n",
    "    # 최댓값을 저장하는 변수\n",
    "    max_value = -1\n",
    "    \n",
    "    # q 값이 빌 때 까지 순환\n",
    "    while q:\n",
    "        \n",
    "        # board와 카운터 획득\n",
    "        board, cnt = q.popleft()\n",
    "        \n",
    "        # 매 방향마다 반복문 수행\n",
    "        for d in dir:\n",
    "            \n",
    "            # 다음 보드 상태, 이동한 후의 최댓값, 변화 플래그\n",
    "            next_board, _max, changed = toward(board, d)\n",
    "            \n",
    "            # 현재까지의 최댓값과의 비교\n",
    "            max_value = max(max_value, _max)\n",
    "            \n",
    "            # 최대 횟수(5회)보다 적게 이동하였다면 이하의 행동을 수행한다.\n",
    "            if cnt + 1 < 5:\n",
    "                \n",
    "                # 상태가 변화하였고, 그 상태가 이전에 있던 상태가 아니라면\n",
    "                if changed and (next_board not in visited):\n",
    "                    q.append([next_board, cnt + 1])\n",
    "                    visited.append(next_board)\n",
    "            \n",
    "    return max_value\n"
   ]
  },
  {
   "cell_type": "code",
   "execution_count": 31,
   "metadata": {},
   "outputs": [
    {
     "data": {
      "text/plain": [
       "64"
      ]
     },
     "execution_count": 31,
     "metadata": {},
     "output_type": "execute_result"
    }
   ],
   "source": [
    "board_string = \"\"\"\n",
    "16 16 8 32 32 0 0 8 8 8\n",
    "16 0 0 0 0 8 0 0 0 16\n",
    "0 0 0 0 0 0 0 0 0 2\n",
    "0 0 0 0 0 0 0 0 0 0\n",
    "0 0 0 0 0 0 0 0 0 0\n",
    "0 0 0 0 0 0 0 0 0 0\n",
    "0 0 0 0 0 0 0 0 0 0\n",
    "0 0 0 0 0 0 0 0 0 0\n",
    "0 0 0 0 0 0 0 0 0 0\n",
    "0 0 0 0 0 0 0 0 0 0\n",
    "\"\"\"\n",
    "board = [list(map(int, line.split()))\n",
    "         for line in board_string.split(\"\\n\") if line]\n",
    "bfs(board)\n",
    "# toward(board, dir[L])\n"
   ]
  }
 ],
 "metadata": {
  "kernelspec": {
   "display_name": "base",
   "language": "python",
   "name": "python3"
  },
  "language_info": {
   "codemirror_mode": {
    "name": "ipython",
    "version": 3
   },
   "file_extension": ".py",
   "mimetype": "text/x-python",
   "name": "python",
   "nbconvert_exporter": "python",
   "pygments_lexer": "ipython3",
   "version": "3.9.12"
  },
  "orig_nbformat": 4,
  "vscode": {
   "interpreter": {
    "hash": "b4b143841983770d84c176b1c8a7e0132d51e8f6de409b808c1e8da94e3c5037"
   }
  }
 },
 "nbformat": 4,
 "nbformat_minor": 2
}
