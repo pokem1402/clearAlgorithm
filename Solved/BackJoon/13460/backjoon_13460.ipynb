{
 "cells": [
  {
   "cell_type": "markdown",
   "metadata": {},
   "source": [
    "https://www.acmicpc.net/problem/13460"
   ]
  },
  {
   "attachments": {},
   "cell_type": "markdown",
   "metadata": {},
   "source": [
    "# BFS 응용 문제"
   ]
  },
  {
   "cell_type": "code",
   "execution_count": 27,
   "metadata": {},
   "outputs": [],
   "source": [
    "RY, RX, BY, BX = 0, 1, 2, 3\n",
    "\n",
    "# Red ball 과 Blue Ball를 찾는 함수\n",
    "# board에서 공의 좌표를 획득한 뒤에, board에서부터 공을 지우는 함수\n",
    "# board에서 공을 지우는 이유는 bfs의 모든 과정에서 board를 재활용하기 위함이다.\n",
    "\n",
    "\n",
    "def find_RandB(board):\n",
    "\t#공의 좌표는 적색 공의 좌표 y,x 그리고 청색 공의 y,x로 구성된다.\n",
    "    ball = [-1, -1, -1, -1]\n",
    "    for y, line in enumerate(board):\n",
    "        if 'R' in line:\n",
    "            x = line.index('R')\n",
    "            ball[:2] = [y, x]\n",
    "            # 공을 보드로부터 지우기\n",
    "            board[y][x] = '.'\n",
    "        if 'B' in line:\n",
    "            x = line.index('B')\n",
    "            ball[2:] = [y, x]\n",
    "            # 공을 보드로부터 지우기\n",
    "            board[y][x] = '.'\n",
    "    return ball\n",
    "\n",
    "# ball = find_RandB(board) "
   ]
  },
  {
   "cell_type": "code",
   "execution_count": 28,
   "metadata": {},
   "outputs": [],
   "source": [
    "D, U, R, L = 0,1,2,3\n",
    "dir = [(1,0), (-1, 0), (0, 1), (0, -1)] #d, u, r, l"
   ]
  },
  {
   "cell_type": "code",
   "execution_count": 47,
   "metadata": {},
   "outputs": [],
   "source": [
    "# board와 red ball, blue ball, 방향을 입력하면 해당 방향으로 이동시키는 함수\n",
    "# direction과의 내적으로 blue ball과 red ball 중 작은 값이 먼저 굴러간다.\n",
    "# 따라서 먼저 굴러갈 공을 먼저 굴리고나서 그 다음 공을 굴리면 된다.\n",
    "# 먼저 굴린 공은 같은 방향에서 늦게 굴린 공을 만나지 않고, 늦게 굴린 공은 먼저 굴린 공의 위치를 참고하므로\n",
    "# 다음 위치를 참조할 때는 빈 공간인가 아닌가만 확인하면 된다.\n",
    "def toward(board, ball, direction):\n",
    "    \n",
    "    # 빈 보드에 공을 놓는다.\n",
    "    board[ball[RY]][ball[RX]] = 'R'\n",
    "    board[ball[BY]][ball[BX]] = 'B'\n",
    "    \n",
    "    # 이동 방향에 대한 벡터를 구한다.\n",
    "    dy, dx = direction\n",
    "    \n",
    "    # 판의 높이와 너비를 구해준다.\n",
    "    h , w = len(board), len(board[0])\n",
    "    \n",
    "    # 적색 공과 청색 공이 도착한 경우 각각 플래그를 세운다.\n",
    "    # 각각 플래그가 존재하는 이유는 청색 공이 목적지에 도달했다면, 적색 공이 목적지에 도달한 경우라도 해당 움직임은 고려하지 않아야하므로\n",
    "    red_on_hole = False\n",
    "    blue_on_hole = False\n",
    "    \n",
    "    # 공과 방향에 대한 내적\n",
    "    # 방향 벡터와의 내적 결과 값이 큰 쪽이 해당 벡터 방향으로 멀리 있는 쪽.\n",
    "    # 멀리 있는 쪽이 이동 결과 같거나 더 먼쪽에 위치함\n",
    "    # 달리 해석하면 방향 벡터로부터 가장 먼 공을 먼저 이동하고 그 다음 공을 이동하면됨\n",
    "    # 따라서 내적 값이 큰 공을 먼저 이동하고 그 다음 공을 이동하면됨\n",
    "    # 정리하면 x1x2+y1y2이 큰 값을 먼저 이동하면 됨.\n",
    "    # 반대로 코드에서는 -x1x2-y1y2이 작은 값을 먼저 이동시킴\n",
    "    def dot(x, y): return - x[0]*y[0] - x[1]*y[1]\n",
    "    \n",
    "    # 내적의 결과 값이 작은 공을 먼저 굴리고, 나머지 공을 다음에 굴린다.\n",
    "    ball_order = [[RY, RX], [BY, BX]] if dot(ball[:2], direction) < dot(\n",
    "        ball[2:], direction) else [[BY, BX], [RY, RX]]\n",
    "    \n",
    "    # 움직임 체크하기 위한 flag\n",
    "    moved = False\n",
    "    \n",
    "    # 공 순서에 따라 공을 굴린다.\n",
    "    for Y, X in ball_order:\n",
    "        # print(Y, X)\n",
    "        while True:\n",
    "            # 편의를 위해\n",
    "            y, x = ball[Y], ball[X]\n",
    "            # 다음 이동이 보드 내에서 적법한 경우.\n",
    "            if (0 < y+dy) and (y+dy < h-1) and (0 < x+dx) and (x+dx < w - 1):\n",
    "                \n",
    "                # 적법한 다음 지역의 정보를 확인\n",
    "                next_point = board[y+dy][x+dx]\n",
    "                \n",
    "                # 목적지인 경우\n",
    "                if next_point == 'O':\n",
    "                    # 적색 공이라면\n",
    "                    if Y == RY:\n",
    "                        red_on_hole = True\n",
    "                        # 공이 빠졌으니 제거\n",
    "                        board[ball[RY]][ball[RX]] = '.'\n",
    "                        break\n",
    "                    # 청색 공이라면\n",
    "                    else:\n",
    "                        # 청색 공이 빠지면 무조건 실패이기 때문에 빠져서 빨간공이 빠지는지 확인 하지 않아도됨\n",
    "                        blue_on_hole = True\n",
    "                        break\n",
    "                # 빈 공간인 경우\n",
    "                elif next_point == '.':\n",
    "                    \n",
    "                    # 움직임 체크\n",
    "                    moved = True\n",
    "                    # 공과 빈 공간의 값을 스왑한다.\n",
    "                    board[y][x], board[y+dy][x+dx] = board[y+dy][x+dx], board[y][x]\n",
    "                    # 공의 위치 값을 변경한다.\n",
    "                    ball[Y], ball[X] = y+dy, x+dx\n",
    "                # 목적지도 아니고 빈 공간도 아닌 경우\n",
    "                else:\n",
    "                    break\n",
    "            # 적법한 이동 가능 지역이 아닌 경우\n",
    "            else:\n",
    "                break\n",
    "       \n",
    "    # 보드에서 공 회수\n",
    "    if red_on_hole == False:\n",
    "        board[ball[RY]][ball[RX]] = '.'\n",
    "    board[ball[BY]][ball[BX]] = '.'\n",
    "               \n",
    "    return ball, red_on_hole, blue_on_hole, moved\n",
    "# print(ball, dir[R])\n",
    "# toward(board, ball.copy(), dir[R])                   \n",
    "    "
   ]
  },
  {
   "cell_type": "code",
   "execution_count": 30,
   "metadata": {},
   "outputs": [
    {
     "data": {
      "text/plain": [
       "-1"
      ]
     },
     "execution_count": 30,
     "metadata": {},
     "output_type": "execute_result"
    }
   ],
   "source": [
    "from collections import deque\n",
    "# bfs\n",
    "def bfs(board, ball_init):\n",
    "    \n",
    "    # queue 선언\n",
    "    q = deque()\n",
    "    \n",
    "    # 게임 상태 저장하는 리스트\n",
    "    visited = []\n",
    "    \n",
    "    # ball 초기 위치와 이동 거리 0 삽입\n",
    "    q.append([ball_init, 0])\n",
    "    \n",
    "    # q가 빌때까지 반복\n",
    "    while q:\n",
    "    \n",
    "        #ball과 count 얻기\n",
    "        ball, cnt = q.popleft()\n",
    "\n",
    "        # 각 방향 마다 반복\n",
    "        for d in dir:\n",
    "            # print(ball, q, d)\n",
    "            ball_next, red_on_hole, blue_on_hole, moved = toward(board, ball.copy(), d)\n",
    "            # print(ball_next, q, d)\n",
    "            # 만약 청색 공이 빠졌다면 무시\n",
    "            if blue_on_hole:\n",
    "                continue\n",
    "            \n",
    "            # 만약 청색 공이 빠지지 않고 적색 공이 빠졌다면 리턴\n",
    "            if red_on_hole:\n",
    "                return cnt + 1\n",
    "            \n",
    "            # 움직였고, 한번도 이 상태에 놓인적이 없다면 q에 넣고 해당 상태 저장\n",
    "            if moved and (ball_next not in visited):\n",
    "                \n",
    "                # 이동 카운트가 10번이 되었다면 넣지 않음\n",
    "                if cnt + 1 < 10:\n",
    "                    q.append([ball_next, cnt+1])\n",
    "                    visited.append(ball_next)\n",
    "    else:\n",
    "        return -1"
   ]
  },
  {
   "cell_type": "code",
   "execution_count": 59,
   "metadata": {},
   "outputs": [
    {
     "data": {
      "text/plain": [
       "-1"
      ]
     },
     "execution_count": 59,
     "metadata": {},
     "output_type": "execute_result"
    }
   ],
   "source": [
    "n, m = 5, 5\n",
    "\n",
    "board_string = \"\"\"\n",
    "##########\n",
    "#.O....RB#\n",
    "##########\n",
    "\"\"\"\n",
    "board = []\n",
    "for line in board_string.split():\n",
    "    l = []\n",
    "    l.extend(line)\n",
    "    board.append(l)\n",
    "    \n",
    "ball_init = find_RandB(board)\n",
    "# print(ball_init)\n",
    "# toward(board, ball_init, dir[D])\n",
    "bfs(board, ball_init)\n"
   ]
  }
 ],
 "metadata": {
  "kernelspec": {
   "display_name": "Python 3.9.12 ('base')",
   "language": "python",
   "name": "python3"
  },
  "language_info": {
   "codemirror_mode": {
    "name": "ipython",
    "version": 3
   },
   "file_extension": ".py",
   "mimetype": "text/x-python",
   "name": "python",
   "nbconvert_exporter": "python",
   "pygments_lexer": "ipython3",
   "version": "3.9.13 (main, Aug 25 2022, 23:51:50) [MSC v.1916 64 bit (AMD64)]"
  },
  "orig_nbformat": 4,
  "vscode": {
   "interpreter": {
    "hash": "b4b143841983770d84c176b1c8a7e0132d51e8f6de409b808c1e8da94e3c5037"
   }
  }
 },
 "nbformat": 4,
 "nbformat_minor": 2
}
