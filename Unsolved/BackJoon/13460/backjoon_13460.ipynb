{
 "cells": [
  {
   "cell_type": "markdown",
   "metadata": {},
   "source": [
    "https://www.acmicpc.net/problem/13460"
   ]
  },
  {
   "cell_type": "code",
   "execution_count": 2,
   "metadata": {},
   "outputs": [
    {
     "data": {
      "text/plain": [
       "[['#', '#', '#', '#', '#'],\n",
       " ['#', '.', '.', 'B', '#'],\n",
       " ['#', '.', '#', '.', '#'],\n",
       " ['#', 'R', 'O', '.', '#'],\n",
       " ['#', '#', '#', '#', '#']]"
      ]
     },
     "execution_count": 2,
     "metadata": {},
     "output_type": "execute_result"
    }
   ],
   "source": [
    "n, m = 5,5\n",
    "\n",
    "board_string = \"\"\"\n",
    "#####\n",
    "#..B#\n",
    "#.#.#\n",
    "#RO.#\n",
    "#####\n",
    "\"\"\"\n",
    "board = []\n",
    "for line in board_string.split():\n",
    "    l = []\n",
    "    l.extend(line)\n",
    "    board.append(l)\n",
    "\n",
    "board"
   ]
  },
  {
   "cell_type": "code",
   "execution_count": 11,
   "metadata": {},
   "outputs": [
    {
     "data": {
      "text/plain": [
       "{'R': (1, 3), 'B': (3, 3)}"
      ]
     },
     "execution_count": 11,
     "metadata": {},
     "output_type": "execute_result"
    }
   ],
   "source": [
    "# Red ball 과 Blue Ball를 찾는 함수\n",
    "# 판을 입력하면 red ball의 y좌표와 x 좌표를 획득한다.\n",
    "def find_RandB(board):\n",
    "    R_pos = []\n",
    "    B_pos = []\n",
    "    ball = {\"R\":(-1, -1), \"B\":(-1, -1)}\n",
    "    for x, line in enumerate(board):\n",
    "        if 'R' in line:\n",
    "            y = line.index('R')\n",
    "            ball[\"R\"]= (y,x)\n",
    "        if 'B' in line:\n",
    "            y = line.index('B')\n",
    "            ball[\"B\"] = (y, x)\n",
    "\n",
    "    return ball\n",
    "\n",
    "ball = find_RandB(board) \n",
    "ball"
   ]
  },
  {
   "cell_type": "code",
   "execution_count": 4,
   "metadata": {},
   "outputs": [
    {
     "data": {
      "text/plain": [
       "(2, 1, 2)"
      ]
     },
     "execution_count": 4,
     "metadata": {},
     "output_type": "execute_result"
    }
   ],
   "source": [
    "a = [1,2]\n",
    "2, *a"
   ]
  },
  {
   "cell_type": "code",
   "execution_count": 5,
   "metadata": {},
   "outputs": [],
   "source": [
    "dir = [(1,0), (-1, 0), (0, 1), (0, -1)] #d, u, r, l"
   ]
  },
  {
   "cell_type": "code",
   "execution_count": 6,
   "metadata": {},
   "outputs": [],
   "source": [
    "# 방향과 내적하는 함수\n",
    "def dot(x, y): return x[0]*y[0] + x[1]*y[1]\n"
   ]
  },
  {
   "cell_type": "code",
   "execution_count": 7,
   "metadata": {},
   "outputs": [
    {
     "data": {
      "text/plain": [
       "{'R': [3, 3], 'B': [3, 1]}"
      ]
     },
     "execution_count": 7,
     "metadata": {},
     "output_type": "execute_result"
    }
   ],
   "source": [
    "# board와 red ball, blue ball, 방향을 입력하면 해당 방향으로 이동시키는 함수\n",
    "# direction과의 내적으로 blue ball과 red ball 중 작은 값이 먼저 굴러간다.\n",
    "# 따라서 먼저 굴러갈 공을 먼저 굴리고나서 그 다음 공을 굴리면 된다.\n",
    "# 먼저 굴린 공은 같은 방향에서 늦게 굴린 공을 만나지 않고, 늦게 굴린 공은 먼저 굴린 공의 위치를 참고하므로\n",
    "# 다음 위치를 참조할 때는 빈 공간인가 아닌가만 확인하면 된다.\n",
    "def toward(board, red, blue, direction):\n",
    "    \n",
    "    # 이동 방향에 대한 벡터를 구한다.\n",
    "    dy, dx = direction\n",
    "    \n",
    "    # 판의 높이와 너비를 구해준다.\n",
    "    h , w = len(board), len(board[0])\n",
    "    \n",
    "    # 적색 공과 청색 공이 도착한 경우 각각 플래그를 세운다.\n",
    "    # 각각 플래그가 존재하는 이유는 청색 공이 목적지에 도달했다면, 적색 공이 목적지에 도달한 경우라도 해당 움직임은 고려하지 않아야하므로\n",
    "    red_on_hole = False\n",
    "    blue_on_hole = False\n",
    "    \n",
    "    def dot(x, y): return x[0]*y[0] + x[1]*y[1]\n",
    "    \n",
    "    # 내적의 결과 값이 작은 공을 먼저 굴리고, 나머지 공을 다음에 굴린다.\n",
    "    ball = {'R':red, 'B':blue}\n",
    "    ball_order = ['R', 'B'] if dot(red, direction) < dot(\n",
    "        blue, direction) else ['B','R']\n",
    "    \n",
    "    # 공 순서에 따라 공을 굴린다.\n",
    "    for name in ball_order:\n",
    "        \n",
    "        while True:\n",
    "            \n",
    "            y, x = ball[name][0], ball[name][1]\n",
    "\n",
    "            # 다음 이동이 보드 내에서 적법한 경우.\n",
    "            if (0 < y+dy) and (y+dy < h-1) and (0 < x+dx) and (x+dx < w - 1):\n",
    "                \n",
    "                # 적법한 다음 지역의 정보를 확인\n",
    "                next_point = board[y+dy][x+dx]\n",
    "                \n",
    "                # 목적지인 경우\n",
    "                if next_point == 'O':\n",
    "                    \n",
    "                    # 적색 공이라면\n",
    "                    if name == 'R':\n",
    "                        red_on_hole = True\n",
    "                        \n",
    "                    # 청색 공이라면\n",
    "                    else:\n",
    "                        blue_on_hole = True\n",
    "                \n",
    "                # 빈 공간인 경우\n",
    "                elif next_point == '.':\n",
    "                    \n",
    "                    # 공과 빈 공간의 값을 스왑한다.\n",
    "                    board[y][x], board[y+dy][x+dx] = board[y+dy][x+dx], board[y][x]\n",
    "                    # 공의 위치 값을 변경한다.\n",
    "                    ball[name][0], ball[name][1] = y+dy, x+dx\n",
    "                # 목적지도 아니고 빈 공간도 아닌 경우\n",
    "                else:\n",
    "                    break\n",
    "            # 적법한 이동 가능 지역이 아닌 경우\n",
    "            else:\n",
    "                break\n",
    "                  \n",
    "    return ball\n",
    "\n",
    "toward(board, r, b, dir[0])                   \n",
    "    "
   ]
  },
  {
   "cell_type": "code",
   "execution_count": 8,
   "metadata": {},
   "outputs": [
    {
     "data": {
      "text/plain": [
       "[['#', '#', '#', '#', '#'],\n",
       " ['#', '.', '.', '.', '#'],\n",
       " ['#', '.', '#', '.', '#'],\n",
       " ['#', 'R', 'O', 'B', '#'],\n",
       " ['#', '#', '#', '#', '#']]"
      ]
     },
     "execution_count": 8,
     "metadata": {},
     "output_type": "execute_result"
    }
   ],
   "source": [
    "board"
   ]
  }
 ],
 "metadata": {
  "kernelspec": {
   "display_name": "Python 3.9.12 ('base')",
   "language": "python",
   "name": "python3"
  },
  "language_info": {
   "codemirror_mode": {
    "name": "ipython",
    "version": 3
   },
   "file_extension": ".py",
   "mimetype": "text/x-python",
   "name": "python",
   "nbconvert_exporter": "python",
   "pygments_lexer": "ipython3",
   "version": "3.9.12"
  },
  "orig_nbformat": 4,
  "vscode": {
   "interpreter": {
    "hash": "b4b143841983770d84c176b1c8a7e0132d51e8f6de409b808c1e8da94e3c5037"
   }
  }
 },
 "nbformat": 4,
 "nbformat_minor": 2
}
