{
 "cells": [
  {
   "attachments": {},
   "cell_type": "markdown",
   "metadata": {},
   "source": [
    "https://www.acmicpc.net/problem/12100"
   ]
  },
  {
   "cell_type": "code",
   "execution_count": 3,
   "metadata": {},
   "outputs": [
    {
     "data": {
      "text/plain": [
       "[[2, 2, 2], [4, 4, 4], [8, 8, 8]]"
      ]
     },
     "execution_count": 3,
     "metadata": {},
     "output_type": "execute_result"
    }
   ],
   "source": [
    "board_string=\"\"\"\n",
    "2 2 2\n",
    "4 4 4\n",
    "8 8 8\n",
    "\"\"\"\n",
    "board = [list(map(int,line.split())) for line in board_string.split(\"\\n\") if line]\n",
    "board"
   ]
  },
  {
   "cell_type": "code",
   "execution_count": 7,
   "metadata": {},
   "outputs": [
    {
     "data": {
      "text/plain": [
       "([[2, 2, 2], [4, 4, 4], [8, 8, 1]], [[2, 2, 2], [4, 4, 4], [8, 8, 1]])"
      ]
     },
     "execution_count": 7,
     "metadata": {},
     "output_type": "execute_result"
    }
   ],
   "source": [
    "board_ = board.copy()\n",
    "\n",
    "board_[2][2] = 1\n",
    "\n",
    "board, board_"
   ]
  },
  {
   "cell_type": "code",
   "execution_count": 22,
   "metadata": {},
   "outputs": [],
   "source": [
    "# 방향 벡터\n",
    "# 순서대로 down, up, left, right를 나타낸다.\n",
    "dir = [(1, 0), (-1, 0), (0, -1), (0, 1)]\n",
    "\n",
    "\n",
    "# 방향에 따른 리스트 순서\n",
    "# 정방향 1\n",
    "# 역방향 -1\n",
    "dir_order = [(-1, 1),(1, 1),(1, 1), (1, -1)]\n",
    "\n",
    "# 방향에 대한 리스트 범위\n",
    "dir_list = [(0, -1, 0, 0), (1, 0, 0, 0), (0, 0, 1, 0), (0, 0, 0, -1)]"
   ]
  },
  {
   "cell_type": "code",
   "execution_count": 24,
   "metadata": {},
   "outputs": [
    {
     "data": {
      "text/plain": [
       "[1, 2, 3]"
      ]
     },
     "execution_count": 24,
     "metadata": {},
     "output_type": "execute_result"
    }
   ],
   "source": [
    "a = [1,2,3,4]\n",
    "\n",
    "a[0:-1]"
   ]
  },
  {
   "cell_type": "code",
   "execution_count": 26,
   "metadata": {},
   "outputs": [
    {
     "name": "stdout",
     "output_type": "stream",
     "text": [
      "[0, 1]\n"
     ]
    }
   ],
   "source": [
    "D, U, L, R = 0,1,2,3\n",
    "Y, X = 0, 1\n",
    "YS, YE, XS, XE = 0,1,2,3\n",
    "# 보드 내의 숫자를 이동시키는 함수\n",
    "# 문제의 <그림 14> -> <그림 15>를 보면 알 수 있듯이 보드 내의 이동은 방향 벡터 기준으로 가장 먼쪽의 요소들부터 움직이면 된다.\n",
    "# 해당 방향의 가장자리 부분은 이동시킬 필요가 없다.\n",
    "# 순서는 진행방향의 반대 순서로 진행하되, 수직 성분의 순서는 어떤 순서로부터 이동해도 상관 없다.\n",
    "def toward(board, direction):\n",
    "    \n",
    "    # 보드판의 가로, 세로\n",
    "    n = len(board)\n",
    "    \n",
    "    # 보드의 이동방향에 따라서 먼저 이동하는 숫자가 달라진다.\n",
    "    # 예를 들어 왼쪽으로 이동하는 경우에는 x가 가장 작은 값들 부터 왼쪽으로 이동하여 x값이 증가되는 순서대로 이동을 시작해야한다.\n",
    "    order = [Y, X] if direction[0] else [X, Y]\n",
    "    \n",
    "    print(order)\n",
    "    \n",
    "toward(board, dir_order[U])"
   ]
  }
 ],
 "metadata": {
  "kernelspec": {
   "display_name": "base",
   "language": "python",
   "name": "python3"
  },
  "language_info": {
   "codemirror_mode": {
    "name": "ipython",
    "version": 3
   },
   "file_extension": ".py",
   "mimetype": "text/x-python",
   "name": "python",
   "nbconvert_exporter": "python",
   "pygments_lexer": "ipython3",
   "version": "3.9.13"
  },
  "orig_nbformat": 4,
  "vscode": {
   "interpreter": {
    "hash": "b4b143841983770d84c176b1c8a7e0132d51e8f6de409b808c1e8da94e3c5037"
   }
  }
 },
 "nbformat": 4,
 "nbformat_minor": 2
}
