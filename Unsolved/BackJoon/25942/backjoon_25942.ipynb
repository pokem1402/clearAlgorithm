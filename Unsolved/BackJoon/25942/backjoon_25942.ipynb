{
 "cells": [
  {
   "cell_type": "markdown",
   "metadata": {},
   "source": [
    "The goal of Turing's challenge is to determine this maximal sum.\n",
    "\n",
    "As an example, consider $X = 3$ and $N = 5$. The corresponding terms are $T_1 = 1$, $T_2 = 15$, $T_3 = 90$, $T_4 = 270$, $T_5 = 405$, and $T_6 = 243$.\n",
    "\n",
    "The product, $T_1T_2T_4T_5T_6 = 1 × 15 × 270 × 405 × 243 = 398580750 ≡ 2 \\pmod{4}$, thus the solution to this specific challenge is $1 + 2 + 4 + 5 + 6 = 18$, since no other product of terms with a higher sum of indices is congruent to $2 \\pmod{4}$."
   ]
  },
  {
   "cell_type": "markdown",
   "metadata": {},
   "source": [
    "### 입력\n",
    "The first input line contains a positive integer, $q$ ($1 ≤ q ≤ 500$), indicating the number of queries. Each of the next $q$ lines will contain a pair of space-separated integers, where the first integer is $X$ ($1 ≤ X < 2^{31}$), and the second integer is $N$ ($1 ≤ N < 2^{31}$), for that query."
   ]
  },
  {
   "cell_type": "markdown",
   "metadata": {},
   "source": [
    "## 출력\n",
    "For each query, output on a line by itself, the desired maximal sum of indices. If no such subset of terms exists, output $0$ instead.\n"
   ]
  },
  {
   "cell_type": "markdown",
   "metadata": {},
   "source": [
    "1. Let $X \\mod 4 \\equiv 0$, all of the order of x modulo 4 is 0, so it cannot satisfy problem's condition."
   ]
  },
  {
   "cell_type": "markdown",
   "metadata": {},
   "source": [
    "2.  Let\n",
    "> $X \\mod 4 \\equiv 2$ then N must be $(N \\mod 4 \\equiv 1$ or $N \\mod 4 \\equiv 3)$,\n",
    " \n",
    "Because when the order of x more than or equal to 2, the remainder of 4 is zero \n",
    "\n",
    " > $ X^i \\mod 4 \\equiv 0$ , where $i >= 2$,\n",
    "\n",
    " so only first order of x can satisfy problem's condition as below, \n",
    "\n",
    " > $NX\\mod 4 \\equiv 2$.\n",
    "\n",
    " By supposition ( $X \\mod 4 \\equiv 2 $)\n",
    "\n",
    " > $N \\mod 4 \\equiv 1$\n",
    " \n",
    " or \n",
    "\n",
    " > $N \\mod 4 \\equiv 3$ \n",
    "\n",
    " if N = 4m + 1, where $m >= 0$,\n",
    "\n",
    " result 8m + 3\n",
    "\n",
    " else N = 4m + 3, where $m >= 0$,\n",
    "\n",
    " result 8m + 5"
   ]
  },
  {
   "cell_type": "markdown",
   "metadata": {},
   "source": [
    "3. Let $(X \\mod 4 \\equiv 3)$ or $(X \\mod 4 \\equiv 1)$,\n",
    "\n",
    "$(3 \\mod 4) * (3 \\mod 4) \\equiv 1 \\mod 4$,\n",
    "\n",
    "So find the binomial coefficient value efficiently, we get answer."
   ]
  },
  {
   "cell_type": "markdown",
   "metadata": {},
   "source": [
    "정리하면 X mod 4 값에 따라 크게 세 가지 경우의 수가 발생한다.\n",
    "\n",
    "(1) X mod 4 $\\equiv$ 1 또는 X mod 4 $\\equiv$ 3 :\n",
    "\n",
    "이 경우에는 대응하는 각 이항 계수 $a_i \\mod 4$를 구한다. 그 뒤에 만약에 $a_i \\mod 4 \\equiv 2$을 만족하는 이항 계수가 존재하지 않으면 result = 0.\n",
    "존재하는 경우에는 가장 index 번호가 큰 이항 계수를 구한 뒤에, 나머지 이항 계수 중에 $a_i \\mod 4 \\equiv 1$ 또는 $a_i \\mod 4 \\equiv 3$을 만족하는 모든 이항 계수의 인덱스와 아까전에 구한 이항 계수의 인덱스를 합한다.\n",
    "\n",
    "(2) X mod 4 $\\equiv$ 0\n",
    "\n",
    "T들의 곱의 modulo 4의 결과 값이 0이 나올 수가 없기 때문에 이 경우에는 항상 0이다.\n",
    "\n",
    "(3) X mod 4 $\\equiv$ 2\n",
    "\n",
    "X의 차수가 2 이상인 x의 거듭제곱합들은 modulo 4 연산에 대해 0의 결과값을 가지므로 NX mod 4 $\\equiv$ 2 어야한다. 조건에 의해 X mod 4 $\\equiv$ 2이므로 N mod 4 $\\equiv$ 1 또는 N mod 4 $\\equiv$ 1이어야한다. 따라서 m이 0 이상의 정수 일 때 result의 값은 8m+5 혹은 8m+3이다."
   ]
  }
 ],
 "metadata": {
  "kernelspec": {
   "display_name": "Python 3.9.12 ('base')",
   "language": "python",
   "name": "python3"
  },
  "language_info": {
   "codemirror_mode": {
    "name": "ipython",
    "version": 3
   },
   "file_extension": ".py",
   "mimetype": "text/x-python",
   "name": "python",
   "nbconvert_exporter": "python",
   "pygments_lexer": "ipython3",
   "version": "3.9.12 (main, Apr  4 2022, 05:22:27) [MSC v.1916 64 bit (AMD64)]"
  },
  "orig_nbformat": 4,
  "vscode": {
   "interpreter": {
    "hash": "b4b143841983770d84c176b1c8a7e0132d51e8f6de409b808c1e8da94e3c5037"
   }
  }
 },
 "nbformat": 4,
 "nbformat_minor": 2
}
